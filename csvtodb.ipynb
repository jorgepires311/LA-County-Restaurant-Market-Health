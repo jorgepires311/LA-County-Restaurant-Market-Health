{
 "cells": [
  {
   "cell_type": "code",
   "execution_count": 3,
   "metadata": {},
   "outputs": [],
   "source": [
    "# required libraries\n",
    "import csv\n",
    "import json\n",
    "import pandas as pd\n",
    "import datetime as dt\n",
    "import sqlite3\n",
    "from sqlalchemy import create_engine\n",
    "import geocoder\n",
    "from itertools import islice\n",
    "import time"
   ]
  },
  {
   "cell_type": "code",
   "execution_count": 4,
   "metadata": {
    "scrolled": true
   },
   "outputs": [
    {
     "name": "stderr",
     "output_type": "stream",
     "text": [
      "C:\\ProgramData\\Anaconda3\\lib\\site-packages\\ipykernel_launcher.py:3: FutureWarning: from_csv is deprecated. Please use read_csv(...) instead. Note that some of the default arguments are different, so please refer to the documentation for from_csv when changing your function calls\n",
      "  This is separate from the ipykernel package so we can avoid doing imports until\n"
     ]
    }
   ],
   "source": [
    "# convert CSV data to DataFrame\n",
    "csvfile = open('./data/restaurant-and-market-health-violations.csv', 'r')\n",
    "pdCSV = pd.DataFrame.from_csv(csvfile,index_col=24)\n",
    "pdCSV.head()\n",
    "csvfile.close()"
   ]
  },
  {
   "cell_type": "code",
   "execution_count": 10,
   "metadata": {},
   "outputs": [
    {
     "data": {
      "text/html": [
       "<div>\n",
       "<style scoped>\n",
       "    .dataframe tbody tr th:only-of-type {\n",
       "        vertical-align: middle;\n",
       "    }\n",
       "\n",
       "    .dataframe tbody tr th {\n",
       "        vertical-align: top;\n",
       "    }\n",
       "\n",
       "    .dataframe thead th {\n",
       "        text-align: right;\n",
       "    }\n",
       "</style>\n",
       "<table border=\"1\" class=\"dataframe\">\n",
       "  <thead>\n",
       "    <tr style=\"text-align: right;\">\n",
       "      <th></th>\n",
       "      <th>row_id</th>\n",
       "      <th>serial_number</th>\n",
       "      <th>activity_date</th>\n",
       "      <th>facility_name</th>\n",
       "      <th>violation_code</th>\n",
       "      <th>violation_description</th>\n",
       "      <th>violation_status</th>\n",
       "      <th>points</th>\n",
       "      <th>grade</th>\n",
       "      <th>facility_address</th>\n",
       "      <th>...</th>\n",
       "      <th>owner_id</th>\n",
       "      <th>owner_name</th>\n",
       "      <th>pe_description</th>\n",
       "      <th>program_element_pe</th>\n",
       "      <th>program_name</th>\n",
       "      <th>program_status</th>\n",
       "      <th>record_id</th>\n",
       "      <th>score</th>\n",
       "      <th>service_code</th>\n",
       "      <th>service_description</th>\n",
       "    </tr>\n",
       "  </thead>\n",
       "  <tbody>\n",
       "    <tr>\n",
       "      <th>0</th>\n",
       "      <td>DA01KEPWCF045</td>\n",
       "      <td>DA01KEPWC</td>\n",
       "      <td>2018-07-18T00:00:00.000</td>\n",
       "      <td>LA FARFALA COFFE SHOP</td>\n",
       "      <td>F045</td>\n",
       "      <td># 45. Sleeping quarters</td>\n",
       "      <td>OUT OF COMPLIANCE</td>\n",
       "      <td>1</td>\n",
       "      <td>A</td>\n",
       "      <td>346 N FORD BLVD</td>\n",
       "      <td>...</td>\n",
       "      <td>OW0185212</td>\n",
       "      <td>DANERY S. VELASQUEZ</td>\n",
       "      <td>RESTAURANT (0-30) SEATS MODERATE RISK</td>\n",
       "      <td>1631</td>\n",
       "      <td>LA FARFALA COFFE SHOP</td>\n",
       "      <td>ACTIVE</td>\n",
       "      <td>PR0173373</td>\n",
       "      <td>93</td>\n",
       "      <td>1</td>\n",
       "      <td>ROUTINE INSPECTION</td>\n",
       "    </tr>\n",
       "    <tr>\n",
       "      <th>1</th>\n",
       "      <td>DA006DSLSF006</td>\n",
       "      <td>DA006DSLS</td>\n",
       "      <td>2018-07-26T00:00:00.000</td>\n",
       "      <td>GARCONS DE CAFE</td>\n",
       "      <td>F006</td>\n",
       "      <td># 06. Adequate handwashing facilities supplied...</td>\n",
       "      <td>OUT OF COMPLIANCE</td>\n",
       "      <td>2</td>\n",
       "      <td>A</td>\n",
       "      <td>541 S SPRING ST # 114</td>\n",
       "      <td>...</td>\n",
       "      <td>OW0245826</td>\n",
       "      <td>KC INVESTMENT LLC</td>\n",
       "      <td>RESTAURANT (0-30) SEATS MODERATE RISK</td>\n",
       "      <td>1631</td>\n",
       "      <td>GARCONS DE CAFE</td>\n",
       "      <td>ACTIVE</td>\n",
       "      <td>PR0201189</td>\n",
       "      <td>95</td>\n",
       "      <td>1</td>\n",
       "      <td>ROUTINE INSPECTION</td>\n",
       "    </tr>\n",
       "    <tr>\n",
       "      <th>2</th>\n",
       "      <td>DA006DSLSF040</td>\n",
       "      <td>DA006DSLS</td>\n",
       "      <td>2018-07-26T00:00:00.000</td>\n",
       "      <td>GARCONS DE CAFE</td>\n",
       "      <td>F040</td>\n",
       "      <td># 40. Plumbing: Plumbing in good repair, prope...</td>\n",
       "      <td>OUT OF COMPLIANCE</td>\n",
       "      <td>1</td>\n",
       "      <td>A</td>\n",
       "      <td>541 S SPRING ST # 114</td>\n",
       "      <td>...</td>\n",
       "      <td>OW0245826</td>\n",
       "      <td>KC INVESTMENT LLC</td>\n",
       "      <td>RESTAURANT (0-30) SEATS MODERATE RISK</td>\n",
       "      <td>1631</td>\n",
       "      <td>GARCONS DE CAFE</td>\n",
       "      <td>ACTIVE</td>\n",
       "      <td>PR0201189</td>\n",
       "      <td>95</td>\n",
       "      <td>1</td>\n",
       "      <td>ROUTINE INSPECTION</td>\n",
       "    </tr>\n",
       "    <tr>\n",
       "      <th>3</th>\n",
       "      <td>DA006DSLSF052</td>\n",
       "      <td>DA006DSLS</td>\n",
       "      <td>2018-07-26T00:00:00.000</td>\n",
       "      <td>GARCONS DE CAFE</td>\n",
       "      <td>F052</td>\n",
       "      <td># 01b. Food safety certification</td>\n",
       "      <td>OUT OF COMPLIANCE</td>\n",
       "      <td>2</td>\n",
       "      <td>A</td>\n",
       "      <td>541 S SPRING ST # 114</td>\n",
       "      <td>...</td>\n",
       "      <td>OW0245826</td>\n",
       "      <td>KC INVESTMENT LLC</td>\n",
       "      <td>RESTAURANT (0-30) SEATS MODERATE RISK</td>\n",
       "      <td>1631</td>\n",
       "      <td>GARCONS DE CAFE</td>\n",
       "      <td>ACTIVE</td>\n",
       "      <td>PR0201189</td>\n",
       "      <td>95</td>\n",
       "      <td>1</td>\n",
       "      <td>ROUTINE INSPECTION</td>\n",
       "    </tr>\n",
       "    <tr>\n",
       "      <th>4</th>\n",
       "      <td>DA00GQVTQF008</td>\n",
       "      <td>DA00GQVTQ</td>\n",
       "      <td>2018-07-19T00:00:00.000</td>\n",
       "      <td>ACE SUSHI @ VONS</td>\n",
       "      <td>F008</td>\n",
       "      <td># 08. Time as a public health control; procedu...</td>\n",
       "      <td>OUT OF COMPLIANCE</td>\n",
       "      <td>2</td>\n",
       "      <td>A</td>\n",
       "      <td>4030 S CENTINELA AVE</td>\n",
       "      <td>...</td>\n",
       "      <td>OW0208935</td>\n",
       "      <td>ASIANA MANAGEMENT GR</td>\n",
       "      <td>RESTAURANT (0-30) SEATS HIGH RISK</td>\n",
       "      <td>1632</td>\n",
       "      <td>ACE SUSHI @ VONS</td>\n",
       "      <td>ACTIVE</td>\n",
       "      <td>PR0188606</td>\n",
       "      <td>96</td>\n",
       "      <td>1</td>\n",
       "      <td>ROUTINE INSPECTION</td>\n",
       "    </tr>\n",
       "  </tbody>\n",
       "</table>\n",
       "<p>5 rows × 25 columns</p>\n",
       "</div>"
      ],
      "text/plain": [
       "          row_id serial_number            activity_date  \\\n",
       "0  DA01KEPWCF045     DA01KEPWC  2018-07-18T00:00:00.000   \n",
       "1  DA006DSLSF006     DA006DSLS  2018-07-26T00:00:00.000   \n",
       "2  DA006DSLSF040     DA006DSLS  2018-07-26T00:00:00.000   \n",
       "3  DA006DSLSF052     DA006DSLS  2018-07-26T00:00:00.000   \n",
       "4  DA00GQVTQF008     DA00GQVTQ  2018-07-19T00:00:00.000   \n",
       "\n",
       "           facility_name violation_code  \\\n",
       "0  LA FARFALA COFFE SHOP           F045   \n",
       "1        GARCONS DE CAFE           F006   \n",
       "2        GARCONS DE CAFE           F040   \n",
       "3        GARCONS DE CAFE           F052   \n",
       "4       ACE SUSHI @ VONS           F008   \n",
       "\n",
       "                               violation_description   violation_status  \\\n",
       "0                            # 45. Sleeping quarters  OUT OF COMPLIANCE   \n",
       "1  # 06. Adequate handwashing facilities supplied...  OUT OF COMPLIANCE   \n",
       "2  # 40. Plumbing: Plumbing in good repair, prope...  OUT OF COMPLIANCE   \n",
       "3                   # 01b. Food safety certification  OUT OF COMPLIANCE   \n",
       "4  # 08. Time as a public health control; procedu...  OUT OF COMPLIANCE   \n",
       "\n",
       "   points grade       facility_address         ...           owner_id  \\\n",
       "0       1     A        346 N FORD BLVD         ...          OW0185212   \n",
       "1       2     A  541 S SPRING ST # 114         ...          OW0245826   \n",
       "2       1     A  541 S SPRING ST # 114         ...          OW0245826   \n",
       "3       2     A  541 S SPRING ST # 114         ...          OW0245826   \n",
       "4       2     A   4030 S CENTINELA AVE         ...          OW0208935   \n",
       "\n",
       "             owner_name                         pe_description  \\\n",
       "0   DANERY S. VELASQUEZ  RESTAURANT (0-30) SEATS MODERATE RISK   \n",
       "1     KC INVESTMENT LLC  RESTAURANT (0-30) SEATS MODERATE RISK   \n",
       "2     KC INVESTMENT LLC  RESTAURANT (0-30) SEATS MODERATE RISK   \n",
       "3     KC INVESTMENT LLC  RESTAURANT (0-30) SEATS MODERATE RISK   \n",
       "4  ASIANA MANAGEMENT GR      RESTAURANT (0-30) SEATS HIGH RISK   \n",
       "\n",
       "  program_element_pe           program_name program_status  record_id score  \\\n",
       "0               1631  LA FARFALA COFFE SHOP         ACTIVE  PR0173373    93   \n",
       "1               1631        GARCONS DE CAFE         ACTIVE  PR0201189    95   \n",
       "2               1631        GARCONS DE CAFE         ACTIVE  PR0201189    95   \n",
       "3               1631        GARCONS DE CAFE         ACTIVE  PR0201189    95   \n",
       "4               1632       ACE SUSHI @ VONS         ACTIVE  PR0188606    96   \n",
       "\n",
       "   service_code service_description  \n",
       "0             1  ROUTINE INSPECTION  \n",
       "1             1  ROUTINE INSPECTION  \n",
       "2             1  ROUTINE INSPECTION  \n",
       "3             1  ROUTINE INSPECTION  \n",
       "4             1  ROUTINE INSPECTION  \n",
       "\n",
       "[5 rows x 25 columns]"
      ]
     },
     "execution_count": 10,
     "metadata": {},
     "output_type": "execute_result"
    }
   ],
   "source": [
    "# filter data for the July 2018 only\n",
    "pdDate = pdCSV.loc[(pdCSV['activity_date'] > '2018-06-30')&(pdCSV['activity_date'] <='2018-07-31')]\n",
    "pdDate = pdDate.reset_index()\n",
    "pdDate.head()"
   ]
  },
  {
   "cell_type": "code",
   "execution_count": null,
   "metadata": {},
   "outputs": [],
   "source": []
  },
  {
   "cell_type": "code",
   "execution_count": 13,
   "metadata": {},
   "outputs": [
    {
     "data": {
      "text/plain": [
       "Index(['row_id', 'serial_number', 'activity_date', 'facility_name',\n",
       "       'violation_code', 'violation_description', 'violation_status', 'points',\n",
       "       'grade', 'facility_address', 'facility_city', 'facility_id',\n",
       "       'facility_state', 'facility_zip', 'employee_id', 'owner_id',\n",
       "       'owner_name', 'pe_description', 'program_element_pe', 'program_name',\n",
       "       'program_status', 'record_id', 'score', 'service_code',\n",
       "       'service_description'],\n",
       "      dtype='object')"
      ]
     },
     "execution_count": 13,
     "metadata": {},
     "output_type": "execute_result"
    }
   ],
   "source": [
    "# save filtered CSV data as JSON file\n",
    "pdDate.to_csv(r'./data/restaurant-and-market-health-violations_temp.csv')\n",
    "pdDate.to_json(r'./data/restaurant-and-market-health-violations.json', orient='records')\n",
    "pdDate.columns"
   ]
  },
  {
   "cell_type": "code",
   "execution_count": 7,
   "metadata": {},
   "outputs": [
    {
     "ename": "IntegrityError",
     "evalue": "(sqlite3.IntegrityError) UNIQUE constraint failed: losangeles.row_id [SQL: 'INSERT INTO losangeles (row_id, serial_number, activity_date, facility_name, violation_code, violation_description, violation_status, points, grade, facility_address, facility_city, facility_id, facility_state, facility_zip, employee_id, owner_id, owner_name, pe_description, program_element_pe, program_name, program_status, record_id, score, service_code, service_description) VALUES (?, ?, ?, ?, ?, ?, ?, ?, ?, ?, ?, ?, ?, ?, ?, ?, ?, ?, ?, ?, ?, ?, ?, ?, ?)'] [parameters: (('DA01KEPWCF045', 'DA01KEPWC', '2018-07-18T00:00:00.000', 'LA FARFALA COFFE SHOP', 'F045', '# 45. Sleeping quarters', 'OUT OF COMPLIANCE', 1, 'A', '346 N FORD BLVD', 'LOS ANGELES', 'FA0179718', 'CA', '90022-1121', 'EE0001049', 'OW0185212', 'DANERY S. VELASQUEZ', 'RESTAURANT (0-30) SEATS MODERATE RISK', 1631, 'LA FARFALA COFFE SHOP', 'ACTIVE', 'PR0173373', 93, 1, 'ROUTINE INSPECTION'), ('DA006DSLSF006', 'DA006DSLS', '2018-07-26T00:00:00.000', 'GARCONS DE CAFE', 'F006', '# 06. Adequate handwashing facilities supplied & accessible', 'OUT OF COMPLIANCE', 2, 'A', '541 S SPRING ST # 114', 'LOS ANGELES', 'FA0251976', 'CA', '90013', 'EE0000721', 'OW0245826', 'KC INVESTMENT LLC', 'RESTAURANT (0-30) SEATS MODERATE RISK', 1631, 'GARCONS DE CAFE', 'ACTIVE', 'PR0201189', 95, 1, 'ROUTINE INSPECTION'), ('DA006DSLSF040', 'DA006DSLS', '2018-07-26T00:00:00.000', 'GARCONS DE CAFE', 'F040', '# 40. Plumbing: Plumbing in good repair, proper backflow devices', 'OUT OF COMPLIANCE', 1, 'A', '541 S SPRING ST # 114', 'LOS ANGELES', 'FA0251976', 'CA', '90013', 'EE0000721', 'OW0245826', 'KC INVESTMENT LLC', 'RESTAURANT (0-30) SEATS MODERATE RISK', 1631, 'GARCONS DE CAFE', 'ACTIVE', 'PR0201189', 95, 1, 'ROUTINE INSPECTION'), ('DA006DSLSF052', 'DA006DSLS', '2018-07-26T00:00:00.000', 'GARCONS DE CAFE', 'F052', '# 01b. Food safety certification', 'OUT OF COMPLIANCE', 2, 'A', '541 S SPRING ST # 114', 'LOS ANGELES', 'FA0251976', 'CA', '90013', 'EE0000721', 'OW0245826', 'KC INVESTMENT LLC', 'RESTAURANT (0-30) SEATS MODERATE RISK', 1631, 'GARCONS DE CAFE', 'ACTIVE', 'PR0201189', 95, 1, 'ROUTINE INSPECTION'), ('DA00GQVTQF008', 'DA00GQVTQ', '2018-07-19T00:00:00.000', 'ACE SUSHI @ VONS', 'F008', '# 08. Time as a public health control; procedures & records', 'OUT OF COMPLIANCE', 2, 'A', '4030 S CENTINELA AVE', 'LOS ANGELES', 'FA0240579', 'CA', '90066', 'EE0000953', 'OW0208935', 'ASIANA MANAGEMENT GR', 'RESTAURANT (0-30) SEATS HIGH RISK', 1632, 'ACE SUSHI @ VONS', 'ACTIVE', 'PR0188606', 96, 1, 'ROUTINE INSPECTION'), ('DA00GQVTQF014', 'DA00GQVTQ', '2018-07-19T00:00:00.000', 'ACE SUSHI @ VONS', 'F014', '# 14. Food contact surfaces: clean and sanitized', 'OUT OF COMPLIANCE', 2, 'A', '4030 S CENTINELA AVE', 'LOS ANGELES', 'FA0240579', 'CA', '90066', 'EE0000953', 'OW0208935', 'ASIANA MANAGEMENT GR', 'RESTAURANT (0-30) SEATS HIGH RISK', 1632, 'ACE SUSHI @ VONS', 'ACTIVE', 'PR0188606', 96, 1, 'ROUTINE INSPECTION'), ('DA00RZ5GNF008', 'DA00RZ5GN', '2018-07-24T00:00:00.000', 'PAPA JOHNS PIZZA', 'F008', '# 08. Time as a public health control; procedures & records', 'OUT OF COMPLIANCE', 2, 'A', '13350 WASHINGTON BLVD', 'LOS ANGELES', 'FA0165233', 'CA', '90066', 'EE0000953', 'OW0128419', 'PJCA-1, LP', 'RESTAURANT (0-30) SEATS MODERATE RISK', 1631, 'PAPA JOHNS PIZZA', 'ACTIVE', 'PR0153550', 96, 1, 'ROUTINE INSPECTION'), ('DA00RZ5GNF033', 'DA00RZ5GN', '2018-07-24T00:00:00.000', 'PAPA JOHNS PIZZA', 'F033', '# 33. Nonfood-contact surfaces clean and in good repair', 'OUT OF COMPLIANCE', 1, 'A', '13350 WASHINGTON BLVD', 'LOS ANGELES', 'FA0165233', 'CA', '90066', 'EE0000953', 'OW0128419', 'PJCA-1, LP', 'RESTAURANT (0-30) SEATS MODERATE RISK', 1631, 'PAPA JOHNS PIZZA', 'ACTIVE', 'PR0153550', 96, 1, 'ROUTINE INSPECTION')  ... displaying 10 of 9201 total bound parameter sets ...  ('DAZYVBSLPF043', 'DAZYVBSLP', '2018-07-10T00:00:00.000', 'BAK KUNG KOREAN BBQ 2', 'F043', '# 43. Premises; personal/cleaning items; vermin-proofing', 'OUT OF COMPLIANCE', 1, 'A', '233 S VERMONT AVE', 'LOS ANGELES', 'FA0166078', 'CA', '90004', 'EE0001003', 'OW0039131', 'WON HUA, INC.', 'RESTAURANT (61-150) SEATS HIGH RISK', 1638, 'BAK KUNG KOREAN BBQ 2', 'ACTIVE', 'PR0156328', 92, 1, 'ROUTINE INSPECTION'), ('DAZYVBSLPF044', 'DAZYVBSLP', '2018-07-10T00:00:00.000', 'BAK KUNG KOREAN BBQ 2', 'F044', '# 44. Floors, walls and ceilings: properly built, maintained in good repair and clean', 'OUT OF COMPLIANCE', 1, 'A', '233 S VERMONT AVE', 'LOS ANGELES', 'FA0166078', 'CA', '90004', 'EE0001003', 'OW0039131', 'WON HUA, INC.', 'RESTAURANT (61-150) SEATS HIGH RISK', 1638, 'BAK KUNG KOREAN BBQ 2', 'ACTIVE', 'PR0156328', 92, 1, 'ROUTINE INSPECTION'))] (Background on this error at: http://sqlalche.me/e/gkpj)",
     "output_type": "error",
     "traceback": [
      "\u001b[1;31m---------------------------------------------------------------------------\u001b[0m",
      "\u001b[1;31mIntegrityError\u001b[0m                            Traceback (most recent call last)",
      "\u001b[1;32mC:\\ProgramData\\Anaconda3\\lib\\site-packages\\sqlalchemy\\engine\\base.py\u001b[0m in \u001b[0;36m_execute_context\u001b[1;34m(self, dialect, constructor, statement, parameters, *args)\u001b[0m\n\u001b[0;32m   1169\u001b[0m                         \u001b[0mparameters\u001b[0m\u001b[1;33m,\u001b[0m\u001b[1;33m\u001b[0m\u001b[1;33m\u001b[0m\u001b[0m\n\u001b[1;32m-> 1170\u001b[1;33m                         context)\n\u001b[0m\u001b[0;32m   1171\u001b[0m             \u001b[1;32melif\u001b[0m \u001b[1;32mnot\u001b[0m \u001b[0mparameters\u001b[0m \u001b[1;32mand\u001b[0m \u001b[0mcontext\u001b[0m\u001b[1;33m.\u001b[0m\u001b[0mno_parameters\u001b[0m\u001b[1;33m:\u001b[0m\u001b[1;33m\u001b[0m\u001b[1;33m\u001b[0m\u001b[0m\n",
      "\u001b[1;32mC:\\ProgramData\\Anaconda3\\lib\\site-packages\\sqlalchemy\\engine\\default.py\u001b[0m in \u001b[0;36mdo_executemany\u001b[1;34m(self, cursor, statement, parameters, context)\u001b[0m\n\u001b[0;32m    505\u001b[0m     \u001b[1;32mdef\u001b[0m \u001b[0mdo_executemany\u001b[0m\u001b[1;33m(\u001b[0m\u001b[0mself\u001b[0m\u001b[1;33m,\u001b[0m \u001b[0mcursor\u001b[0m\u001b[1;33m,\u001b[0m \u001b[0mstatement\u001b[0m\u001b[1;33m,\u001b[0m \u001b[0mparameters\u001b[0m\u001b[1;33m,\u001b[0m \u001b[0mcontext\u001b[0m\u001b[1;33m=\u001b[0m\u001b[1;32mNone\u001b[0m\u001b[1;33m)\u001b[0m\u001b[1;33m:\u001b[0m\u001b[1;33m\u001b[0m\u001b[1;33m\u001b[0m\u001b[0m\n\u001b[1;32m--> 506\u001b[1;33m         \u001b[0mcursor\u001b[0m\u001b[1;33m.\u001b[0m\u001b[0mexecutemany\u001b[0m\u001b[1;33m(\u001b[0m\u001b[0mstatement\u001b[0m\u001b[1;33m,\u001b[0m \u001b[0mparameters\u001b[0m\u001b[1;33m)\u001b[0m\u001b[1;33m\u001b[0m\u001b[1;33m\u001b[0m\u001b[0m\n\u001b[0m\u001b[0;32m    507\u001b[0m \u001b[1;33m\u001b[0m\u001b[0m\n",
      "\u001b[1;31mIntegrityError\u001b[0m: UNIQUE constraint failed: losangeles.row_id",
      "\nThe above exception was the direct cause of the following exception:\n",
      "\u001b[1;31mIntegrityError\u001b[0m                            Traceback (most recent call last)",
      "\u001b[1;32m<ipython-input-7-51968a5222bf>\u001b[0m in \u001b[0;36m<module>\u001b[1;34m\u001b[0m\n\u001b[0;32m      2\u001b[0m \u001b[0mpdDate\u001b[0m\u001b[1;33m.\u001b[0m\u001b[0mto_csv\u001b[0m\u001b[1;33m(\u001b[0m\u001b[1;34mr'./data/restaurant-and-market-health-violations-0718.csv'\u001b[0m\u001b[1;33m)\u001b[0m\u001b[1;33m\u001b[0m\u001b[1;33m\u001b[0m\u001b[0m\n\u001b[0;32m      3\u001b[0m \u001b[0mengine\u001b[0m \u001b[1;33m=\u001b[0m \u001b[0mcreate_engine\u001b[0m\u001b[1;33m(\u001b[0m\u001b[1;34m'sqlite:///data/los_angeles.db'\u001b[0m\u001b[1;33m,\u001b[0m \u001b[0mecho\u001b[0m\u001b[1;33m=\u001b[0m\u001b[1;32mFalse\u001b[0m\u001b[1;33m)\u001b[0m\u001b[1;33m\u001b[0m\u001b[1;33m\u001b[0m\u001b[0m\n\u001b[1;32m----> 4\u001b[1;33m \u001b[0mpdDate\u001b[0m\u001b[1;33m.\u001b[0m\u001b[0mto_sql\u001b[0m\u001b[1;33m(\u001b[0m\u001b[1;34m'losangeles'\u001b[0m\u001b[1;33m,\u001b[0m \u001b[0mcon\u001b[0m\u001b[1;33m=\u001b[0m\u001b[0mengine\u001b[0m\u001b[1;33m,\u001b[0m \u001b[0mif_exists\u001b[0m\u001b[1;33m=\u001b[0m\u001b[1;34m'append'\u001b[0m\u001b[1;33m)\u001b[0m\u001b[1;33m\u001b[0m\u001b[1;33m\u001b[0m\u001b[0m\n\u001b[0m",
      "\u001b[1;32mC:\\ProgramData\\Anaconda3\\lib\\site-packages\\pandas\\core\\generic.py\u001b[0m in \u001b[0;36mto_sql\u001b[1;34m(self, name, con, schema, if_exists, index, index_label, chunksize, dtype)\u001b[0m\n\u001b[0;32m   2128\u001b[0m         sql.to_sql(self, name, con, schema=schema, if_exists=if_exists,\n\u001b[0;32m   2129\u001b[0m                    \u001b[0mindex\u001b[0m\u001b[1;33m=\u001b[0m\u001b[0mindex\u001b[0m\u001b[1;33m,\u001b[0m \u001b[0mindex_label\u001b[0m\u001b[1;33m=\u001b[0m\u001b[0mindex_label\u001b[0m\u001b[1;33m,\u001b[0m \u001b[0mchunksize\u001b[0m\u001b[1;33m=\u001b[0m\u001b[0mchunksize\u001b[0m\u001b[1;33m,\u001b[0m\u001b[1;33m\u001b[0m\u001b[1;33m\u001b[0m\u001b[0m\n\u001b[1;32m-> 2130\u001b[1;33m                    dtype=dtype)\n\u001b[0m\u001b[0;32m   2131\u001b[0m \u001b[1;33m\u001b[0m\u001b[0m\n\u001b[0;32m   2132\u001b[0m     def to_pickle(self, path, compression='infer',\n",
      "\u001b[1;32mC:\\ProgramData\\Anaconda3\\lib\\site-packages\\pandas\\io\\sql.py\u001b[0m in \u001b[0;36mto_sql\u001b[1;34m(frame, name, con, schema, if_exists, index, index_label, chunksize, dtype)\u001b[0m\n\u001b[0;32m    448\u001b[0m     pandas_sql.to_sql(frame, name, if_exists=if_exists, index=index,\n\u001b[0;32m    449\u001b[0m                       \u001b[0mindex_label\u001b[0m\u001b[1;33m=\u001b[0m\u001b[0mindex_label\u001b[0m\u001b[1;33m,\u001b[0m \u001b[0mschema\u001b[0m\u001b[1;33m=\u001b[0m\u001b[0mschema\u001b[0m\u001b[1;33m,\u001b[0m\u001b[1;33m\u001b[0m\u001b[1;33m\u001b[0m\u001b[0m\n\u001b[1;32m--> 450\u001b[1;33m                       chunksize=chunksize, dtype=dtype)\n\u001b[0m\u001b[0;32m    451\u001b[0m \u001b[1;33m\u001b[0m\u001b[0m\n\u001b[0;32m    452\u001b[0m \u001b[1;33m\u001b[0m\u001b[0m\n",
      "\u001b[1;32mC:\\ProgramData\\Anaconda3\\lib\\site-packages\\pandas\\io\\sql.py\u001b[0m in \u001b[0;36mto_sql\u001b[1;34m(self, frame, name, if_exists, index, index_label, schema, chunksize, dtype)\u001b[0m\n\u001b[0;32m   1125\u001b[0m                          schema=schema, dtype=dtype)\n\u001b[0;32m   1126\u001b[0m         \u001b[0mtable\u001b[0m\u001b[1;33m.\u001b[0m\u001b[0mcreate\u001b[0m\u001b[1;33m(\u001b[0m\u001b[1;33m)\u001b[0m\u001b[1;33m\u001b[0m\u001b[1;33m\u001b[0m\u001b[0m\n\u001b[1;32m-> 1127\u001b[1;33m         \u001b[0mtable\u001b[0m\u001b[1;33m.\u001b[0m\u001b[0minsert\u001b[0m\u001b[1;33m(\u001b[0m\u001b[0mchunksize\u001b[0m\u001b[1;33m)\u001b[0m\u001b[1;33m\u001b[0m\u001b[1;33m\u001b[0m\u001b[0m\n\u001b[0m\u001b[0;32m   1128\u001b[0m         \u001b[1;32mif\u001b[0m \u001b[1;33m(\u001b[0m\u001b[1;32mnot\u001b[0m \u001b[0mname\u001b[0m\u001b[1;33m.\u001b[0m\u001b[0misdigit\u001b[0m\u001b[1;33m(\u001b[0m\u001b[1;33m)\u001b[0m \u001b[1;32mand\u001b[0m \u001b[1;32mnot\u001b[0m \u001b[0mname\u001b[0m\u001b[1;33m.\u001b[0m\u001b[0mislower\u001b[0m\u001b[1;33m(\u001b[0m\u001b[1;33m)\u001b[0m\u001b[1;33m)\u001b[0m\u001b[1;33m:\u001b[0m\u001b[1;33m\u001b[0m\u001b[1;33m\u001b[0m\u001b[0m\n\u001b[0;32m   1129\u001b[0m             \u001b[1;31m# check for potentially case sensitivity issues (GH7815)\u001b[0m\u001b[1;33m\u001b[0m\u001b[1;33m\u001b[0m\u001b[1;33m\u001b[0m\u001b[0m\n",
      "\u001b[1;32mC:\\ProgramData\\Anaconda3\\lib\\site-packages\\pandas\\io\\sql.py\u001b[0m in \u001b[0;36minsert\u001b[1;34m(self, chunksize)\u001b[0m\n\u001b[0;32m    639\u001b[0m \u001b[1;33m\u001b[0m\u001b[0m\n\u001b[0;32m    640\u001b[0m                 \u001b[0mchunk_iter\u001b[0m \u001b[1;33m=\u001b[0m \u001b[0mzip\u001b[0m\u001b[1;33m(\u001b[0m\u001b[1;33m*\u001b[0m\u001b[1;33m[\u001b[0m\u001b[0marr\u001b[0m\u001b[1;33m[\u001b[0m\u001b[0mstart_i\u001b[0m\u001b[1;33m:\u001b[0m\u001b[0mend_i\u001b[0m\u001b[1;33m]\u001b[0m \u001b[1;32mfor\u001b[0m \u001b[0marr\u001b[0m \u001b[1;32min\u001b[0m \u001b[0mdata_list\u001b[0m\u001b[1;33m]\u001b[0m\u001b[1;33m)\u001b[0m\u001b[1;33m\u001b[0m\u001b[1;33m\u001b[0m\u001b[0m\n\u001b[1;32m--> 641\u001b[1;33m                 \u001b[0mself\u001b[0m\u001b[1;33m.\u001b[0m\u001b[0m_execute_insert\u001b[0m\u001b[1;33m(\u001b[0m\u001b[0mconn\u001b[0m\u001b[1;33m,\u001b[0m \u001b[0mkeys\u001b[0m\u001b[1;33m,\u001b[0m \u001b[0mchunk_iter\u001b[0m\u001b[1;33m)\u001b[0m\u001b[1;33m\u001b[0m\u001b[1;33m\u001b[0m\u001b[0m\n\u001b[0m\u001b[0;32m    642\u001b[0m \u001b[1;33m\u001b[0m\u001b[0m\n\u001b[0;32m    643\u001b[0m     def _query_iterator(self, result, chunksize, columns, coerce_float=True,\n",
      "\u001b[1;32mC:\\ProgramData\\Anaconda3\\lib\\site-packages\\pandas\\io\\sql.py\u001b[0m in \u001b[0;36m_execute_insert\u001b[1;34m(self, conn, keys, data_iter)\u001b[0m\n\u001b[0;32m    614\u001b[0m     \u001b[1;32mdef\u001b[0m \u001b[0m_execute_insert\u001b[0m\u001b[1;33m(\u001b[0m\u001b[0mself\u001b[0m\u001b[1;33m,\u001b[0m \u001b[0mconn\u001b[0m\u001b[1;33m,\u001b[0m \u001b[0mkeys\u001b[0m\u001b[1;33m,\u001b[0m \u001b[0mdata_iter\u001b[0m\u001b[1;33m)\u001b[0m\u001b[1;33m:\u001b[0m\u001b[1;33m\u001b[0m\u001b[1;33m\u001b[0m\u001b[0m\n\u001b[0;32m    615\u001b[0m         \u001b[0mdata\u001b[0m \u001b[1;33m=\u001b[0m \u001b[1;33m[\u001b[0m\u001b[1;33m{\u001b[0m\u001b[0mk\u001b[0m\u001b[1;33m:\u001b[0m \u001b[0mv\u001b[0m \u001b[1;32mfor\u001b[0m \u001b[0mk\u001b[0m\u001b[1;33m,\u001b[0m \u001b[0mv\u001b[0m \u001b[1;32min\u001b[0m \u001b[0mzip\u001b[0m\u001b[1;33m(\u001b[0m\u001b[0mkeys\u001b[0m\u001b[1;33m,\u001b[0m \u001b[0mrow\u001b[0m\u001b[1;33m)\u001b[0m\u001b[1;33m}\u001b[0m \u001b[1;32mfor\u001b[0m \u001b[0mrow\u001b[0m \u001b[1;32min\u001b[0m \u001b[0mdata_iter\u001b[0m\u001b[1;33m]\u001b[0m\u001b[1;33m\u001b[0m\u001b[1;33m\u001b[0m\u001b[0m\n\u001b[1;32m--> 616\u001b[1;33m         \u001b[0mconn\u001b[0m\u001b[1;33m.\u001b[0m\u001b[0mexecute\u001b[0m\u001b[1;33m(\u001b[0m\u001b[0mself\u001b[0m\u001b[1;33m.\u001b[0m\u001b[0minsert_statement\u001b[0m\u001b[1;33m(\u001b[0m\u001b[1;33m)\u001b[0m\u001b[1;33m,\u001b[0m \u001b[0mdata\u001b[0m\u001b[1;33m)\u001b[0m\u001b[1;33m\u001b[0m\u001b[1;33m\u001b[0m\u001b[0m\n\u001b[0m\u001b[0;32m    617\u001b[0m \u001b[1;33m\u001b[0m\u001b[0m\n\u001b[0;32m    618\u001b[0m     \u001b[1;32mdef\u001b[0m \u001b[0minsert\u001b[0m\u001b[1;33m(\u001b[0m\u001b[0mself\u001b[0m\u001b[1;33m,\u001b[0m \u001b[0mchunksize\u001b[0m\u001b[1;33m=\u001b[0m\u001b[1;32mNone\u001b[0m\u001b[1;33m)\u001b[0m\u001b[1;33m:\u001b[0m\u001b[1;33m\u001b[0m\u001b[1;33m\u001b[0m\u001b[0m\n",
      "\u001b[1;32mC:\\ProgramData\\Anaconda3\\lib\\site-packages\\sqlalchemy\\engine\\base.py\u001b[0m in \u001b[0;36mexecute\u001b[1;34m(self, object, *multiparams, **params)\u001b[0m\n\u001b[0;32m    946\u001b[0m             \u001b[1;32mraise\u001b[0m \u001b[0mexc\u001b[0m\u001b[1;33m.\u001b[0m\u001b[0mObjectNotExecutableError\u001b[0m\u001b[1;33m(\u001b[0m\u001b[0mobject\u001b[0m\u001b[1;33m)\u001b[0m\u001b[1;33m\u001b[0m\u001b[1;33m\u001b[0m\u001b[0m\n\u001b[0;32m    947\u001b[0m         \u001b[1;32melse\u001b[0m\u001b[1;33m:\u001b[0m\u001b[1;33m\u001b[0m\u001b[1;33m\u001b[0m\u001b[0m\n\u001b[1;32m--> 948\u001b[1;33m             \u001b[1;32mreturn\u001b[0m \u001b[0mmeth\u001b[0m\u001b[1;33m(\u001b[0m\u001b[0mself\u001b[0m\u001b[1;33m,\u001b[0m \u001b[0mmultiparams\u001b[0m\u001b[1;33m,\u001b[0m \u001b[0mparams\u001b[0m\u001b[1;33m)\u001b[0m\u001b[1;33m\u001b[0m\u001b[1;33m\u001b[0m\u001b[0m\n\u001b[0m\u001b[0;32m    949\u001b[0m \u001b[1;33m\u001b[0m\u001b[0m\n\u001b[0;32m    950\u001b[0m     \u001b[1;32mdef\u001b[0m \u001b[0m_execute_function\u001b[0m\u001b[1;33m(\u001b[0m\u001b[0mself\u001b[0m\u001b[1;33m,\u001b[0m \u001b[0mfunc\u001b[0m\u001b[1;33m,\u001b[0m \u001b[0mmultiparams\u001b[0m\u001b[1;33m,\u001b[0m \u001b[0mparams\u001b[0m\u001b[1;33m)\u001b[0m\u001b[1;33m:\u001b[0m\u001b[1;33m\u001b[0m\u001b[1;33m\u001b[0m\u001b[0m\n",
      "\u001b[1;32mC:\\ProgramData\\Anaconda3\\lib\\site-packages\\sqlalchemy\\sql\\elements.py\u001b[0m in \u001b[0;36m_execute_on_connection\u001b[1;34m(self, connection, multiparams, params)\u001b[0m\n\u001b[0;32m    267\u001b[0m     \u001b[1;32mdef\u001b[0m \u001b[0m_execute_on_connection\u001b[0m\u001b[1;33m(\u001b[0m\u001b[0mself\u001b[0m\u001b[1;33m,\u001b[0m \u001b[0mconnection\u001b[0m\u001b[1;33m,\u001b[0m \u001b[0mmultiparams\u001b[0m\u001b[1;33m,\u001b[0m \u001b[0mparams\u001b[0m\u001b[1;33m)\u001b[0m\u001b[1;33m:\u001b[0m\u001b[1;33m\u001b[0m\u001b[1;33m\u001b[0m\u001b[0m\n\u001b[0;32m    268\u001b[0m         \u001b[1;32mif\u001b[0m \u001b[0mself\u001b[0m\u001b[1;33m.\u001b[0m\u001b[0msupports_execution\u001b[0m\u001b[1;33m:\u001b[0m\u001b[1;33m\u001b[0m\u001b[1;33m\u001b[0m\u001b[0m\n\u001b[1;32m--> 269\u001b[1;33m             \u001b[1;32mreturn\u001b[0m \u001b[0mconnection\u001b[0m\u001b[1;33m.\u001b[0m\u001b[0m_execute_clauseelement\u001b[0m\u001b[1;33m(\u001b[0m\u001b[0mself\u001b[0m\u001b[1;33m,\u001b[0m \u001b[0mmultiparams\u001b[0m\u001b[1;33m,\u001b[0m \u001b[0mparams\u001b[0m\u001b[1;33m)\u001b[0m\u001b[1;33m\u001b[0m\u001b[1;33m\u001b[0m\u001b[0m\n\u001b[0m\u001b[0;32m    270\u001b[0m         \u001b[1;32melse\u001b[0m\u001b[1;33m:\u001b[0m\u001b[1;33m\u001b[0m\u001b[1;33m\u001b[0m\u001b[0m\n\u001b[0;32m    271\u001b[0m             \u001b[1;32mraise\u001b[0m \u001b[0mexc\u001b[0m\u001b[1;33m.\u001b[0m\u001b[0mObjectNotExecutableError\u001b[0m\u001b[1;33m(\u001b[0m\u001b[0mself\u001b[0m\u001b[1;33m)\u001b[0m\u001b[1;33m\u001b[0m\u001b[1;33m\u001b[0m\u001b[0m\n",
      "\u001b[1;32mC:\\ProgramData\\Anaconda3\\lib\\site-packages\\sqlalchemy\\engine\\base.py\u001b[0m in \u001b[0;36m_execute_clauseelement\u001b[1;34m(self, elem, multiparams, params)\u001b[0m\n\u001b[0;32m   1058\u001b[0m             \u001b[0mcompiled_sql\u001b[0m\u001b[1;33m,\u001b[0m\u001b[1;33m\u001b[0m\u001b[1;33m\u001b[0m\u001b[0m\n\u001b[0;32m   1059\u001b[0m             \u001b[0mdistilled_params\u001b[0m\u001b[1;33m,\u001b[0m\u001b[1;33m\u001b[0m\u001b[1;33m\u001b[0m\u001b[0m\n\u001b[1;32m-> 1060\u001b[1;33m             \u001b[0mcompiled_sql\u001b[0m\u001b[1;33m,\u001b[0m \u001b[0mdistilled_params\u001b[0m\u001b[1;33m\u001b[0m\u001b[1;33m\u001b[0m\u001b[0m\n\u001b[0m\u001b[0;32m   1061\u001b[0m         )\n\u001b[0;32m   1062\u001b[0m         \u001b[1;32mif\u001b[0m \u001b[0mself\u001b[0m\u001b[1;33m.\u001b[0m\u001b[0m_has_events\u001b[0m \u001b[1;32mor\u001b[0m \u001b[0mself\u001b[0m\u001b[1;33m.\u001b[0m\u001b[0mengine\u001b[0m\u001b[1;33m.\u001b[0m\u001b[0m_has_events\u001b[0m\u001b[1;33m:\u001b[0m\u001b[1;33m\u001b[0m\u001b[1;33m\u001b[0m\u001b[0m\n",
      "\u001b[1;32mC:\\ProgramData\\Anaconda3\\lib\\site-packages\\sqlalchemy\\engine\\base.py\u001b[0m in \u001b[0;36m_execute_context\u001b[1;34m(self, dialect, constructor, statement, parameters, *args)\u001b[0m\n\u001b[0;32m   1198\u001b[0m                 \u001b[0mparameters\u001b[0m\u001b[1;33m,\u001b[0m\u001b[1;33m\u001b[0m\u001b[1;33m\u001b[0m\u001b[0m\n\u001b[0;32m   1199\u001b[0m                 \u001b[0mcursor\u001b[0m\u001b[1;33m,\u001b[0m\u001b[1;33m\u001b[0m\u001b[1;33m\u001b[0m\u001b[0m\n\u001b[1;32m-> 1200\u001b[1;33m                 context)\n\u001b[0m\u001b[0;32m   1201\u001b[0m \u001b[1;33m\u001b[0m\u001b[0m\n\u001b[0;32m   1202\u001b[0m         \u001b[1;32mif\u001b[0m \u001b[0mself\u001b[0m\u001b[1;33m.\u001b[0m\u001b[0m_has_events\u001b[0m \u001b[1;32mor\u001b[0m \u001b[0mself\u001b[0m\u001b[1;33m.\u001b[0m\u001b[0mengine\u001b[0m\u001b[1;33m.\u001b[0m\u001b[0m_has_events\u001b[0m\u001b[1;33m:\u001b[0m\u001b[1;33m\u001b[0m\u001b[1;33m\u001b[0m\u001b[0m\n",
      "\u001b[1;32mC:\\ProgramData\\Anaconda3\\lib\\site-packages\\sqlalchemy\\engine\\base.py\u001b[0m in \u001b[0;36m_handle_dbapi_exception\u001b[1;34m(self, e, statement, parameters, cursor, context)\u001b[0m\n\u001b[0;32m   1411\u001b[0m                 util.raise_from_cause(\n\u001b[0;32m   1412\u001b[0m                     \u001b[0msqlalchemy_exception\u001b[0m\u001b[1;33m,\u001b[0m\u001b[1;33m\u001b[0m\u001b[1;33m\u001b[0m\u001b[0m\n\u001b[1;32m-> 1413\u001b[1;33m                     \u001b[0mexc_info\u001b[0m\u001b[1;33m\u001b[0m\u001b[1;33m\u001b[0m\u001b[0m\n\u001b[0m\u001b[0;32m   1414\u001b[0m                 )\n\u001b[0;32m   1415\u001b[0m             \u001b[1;32melse\u001b[0m\u001b[1;33m:\u001b[0m\u001b[1;33m\u001b[0m\u001b[1;33m\u001b[0m\u001b[0m\n",
      "\u001b[1;32mC:\\ProgramData\\Anaconda3\\lib\\site-packages\\sqlalchemy\\util\\compat.py\u001b[0m in \u001b[0;36mraise_from_cause\u001b[1;34m(exception, exc_info)\u001b[0m\n\u001b[0;32m    263\u001b[0m     \u001b[0mexc_type\u001b[0m\u001b[1;33m,\u001b[0m \u001b[0mexc_value\u001b[0m\u001b[1;33m,\u001b[0m \u001b[0mexc_tb\u001b[0m \u001b[1;33m=\u001b[0m \u001b[0mexc_info\u001b[0m\u001b[1;33m\u001b[0m\u001b[1;33m\u001b[0m\u001b[0m\n\u001b[0;32m    264\u001b[0m     \u001b[0mcause\u001b[0m \u001b[1;33m=\u001b[0m \u001b[0mexc_value\u001b[0m \u001b[1;32mif\u001b[0m \u001b[0mexc_value\u001b[0m \u001b[1;32mis\u001b[0m \u001b[1;32mnot\u001b[0m \u001b[0mexception\u001b[0m \u001b[1;32melse\u001b[0m \u001b[1;32mNone\u001b[0m\u001b[1;33m\u001b[0m\u001b[1;33m\u001b[0m\u001b[0m\n\u001b[1;32m--> 265\u001b[1;33m     \u001b[0mreraise\u001b[0m\u001b[1;33m(\u001b[0m\u001b[0mtype\u001b[0m\u001b[1;33m(\u001b[0m\u001b[0mexception\u001b[0m\u001b[1;33m)\u001b[0m\u001b[1;33m,\u001b[0m \u001b[0mexception\u001b[0m\u001b[1;33m,\u001b[0m \u001b[0mtb\u001b[0m\u001b[1;33m=\u001b[0m\u001b[0mexc_tb\u001b[0m\u001b[1;33m,\u001b[0m \u001b[0mcause\u001b[0m\u001b[1;33m=\u001b[0m\u001b[0mcause\u001b[0m\u001b[1;33m)\u001b[0m\u001b[1;33m\u001b[0m\u001b[1;33m\u001b[0m\u001b[0m\n\u001b[0m\u001b[0;32m    266\u001b[0m \u001b[1;33m\u001b[0m\u001b[0m\n\u001b[0;32m    267\u001b[0m \u001b[1;32mif\u001b[0m \u001b[0mpy3k\u001b[0m\u001b[1;33m:\u001b[0m\u001b[1;33m\u001b[0m\u001b[1;33m\u001b[0m\u001b[0m\n",
      "\u001b[1;32mC:\\ProgramData\\Anaconda3\\lib\\site-packages\\sqlalchemy\\util\\compat.py\u001b[0m in \u001b[0;36mreraise\u001b[1;34m(tp, value, tb, cause)\u001b[0m\n\u001b[0;32m    246\u001b[0m             \u001b[0mvalue\u001b[0m\u001b[1;33m.\u001b[0m\u001b[0m__cause__\u001b[0m \u001b[1;33m=\u001b[0m \u001b[0mcause\u001b[0m\u001b[1;33m\u001b[0m\u001b[1;33m\u001b[0m\u001b[0m\n\u001b[0;32m    247\u001b[0m         \u001b[1;32mif\u001b[0m \u001b[0mvalue\u001b[0m\u001b[1;33m.\u001b[0m\u001b[0m__traceback__\u001b[0m \u001b[1;32mis\u001b[0m \u001b[1;32mnot\u001b[0m \u001b[0mtb\u001b[0m\u001b[1;33m:\u001b[0m\u001b[1;33m\u001b[0m\u001b[1;33m\u001b[0m\u001b[0m\n\u001b[1;32m--> 248\u001b[1;33m             \u001b[1;32mraise\u001b[0m \u001b[0mvalue\u001b[0m\u001b[1;33m.\u001b[0m\u001b[0mwith_traceback\u001b[0m\u001b[1;33m(\u001b[0m\u001b[0mtb\u001b[0m\u001b[1;33m)\u001b[0m\u001b[1;33m\u001b[0m\u001b[1;33m\u001b[0m\u001b[0m\n\u001b[0m\u001b[0;32m    249\u001b[0m         \u001b[1;32mraise\u001b[0m \u001b[0mvalue\u001b[0m\u001b[1;33m\u001b[0m\u001b[1;33m\u001b[0m\u001b[0m\n\u001b[0;32m    250\u001b[0m \u001b[1;33m\u001b[0m\u001b[0m\n",
      "\u001b[1;32mC:\\ProgramData\\Anaconda3\\lib\\site-packages\\sqlalchemy\\engine\\base.py\u001b[0m in \u001b[0;36m_execute_context\u001b[1;34m(self, dialect, constructor, statement, parameters, *args)\u001b[0m\n\u001b[0;32m   1168\u001b[0m                         \u001b[0mstatement\u001b[0m\u001b[1;33m,\u001b[0m\u001b[1;33m\u001b[0m\u001b[1;33m\u001b[0m\u001b[0m\n\u001b[0;32m   1169\u001b[0m                         \u001b[0mparameters\u001b[0m\u001b[1;33m,\u001b[0m\u001b[1;33m\u001b[0m\u001b[1;33m\u001b[0m\u001b[0m\n\u001b[1;32m-> 1170\u001b[1;33m                         context)\n\u001b[0m\u001b[0;32m   1171\u001b[0m             \u001b[1;32melif\u001b[0m \u001b[1;32mnot\u001b[0m \u001b[0mparameters\u001b[0m \u001b[1;32mand\u001b[0m \u001b[0mcontext\u001b[0m\u001b[1;33m.\u001b[0m\u001b[0mno_parameters\u001b[0m\u001b[1;33m:\u001b[0m\u001b[1;33m\u001b[0m\u001b[1;33m\u001b[0m\u001b[0m\n\u001b[0;32m   1172\u001b[0m                 \u001b[1;32mif\u001b[0m \u001b[0mself\u001b[0m\u001b[1;33m.\u001b[0m\u001b[0mdialect\u001b[0m\u001b[1;33m.\u001b[0m\u001b[0m_has_events\u001b[0m\u001b[1;33m:\u001b[0m\u001b[1;33m\u001b[0m\u001b[1;33m\u001b[0m\u001b[0m\n",
      "\u001b[1;32mC:\\ProgramData\\Anaconda3\\lib\\site-packages\\sqlalchemy\\engine\\default.py\u001b[0m in \u001b[0;36mdo_executemany\u001b[1;34m(self, cursor, statement, parameters, context)\u001b[0m\n\u001b[0;32m    504\u001b[0m \u001b[1;33m\u001b[0m\u001b[0m\n\u001b[0;32m    505\u001b[0m     \u001b[1;32mdef\u001b[0m \u001b[0mdo_executemany\u001b[0m\u001b[1;33m(\u001b[0m\u001b[0mself\u001b[0m\u001b[1;33m,\u001b[0m \u001b[0mcursor\u001b[0m\u001b[1;33m,\u001b[0m \u001b[0mstatement\u001b[0m\u001b[1;33m,\u001b[0m \u001b[0mparameters\u001b[0m\u001b[1;33m,\u001b[0m \u001b[0mcontext\u001b[0m\u001b[1;33m=\u001b[0m\u001b[1;32mNone\u001b[0m\u001b[1;33m)\u001b[0m\u001b[1;33m:\u001b[0m\u001b[1;33m\u001b[0m\u001b[1;33m\u001b[0m\u001b[0m\n\u001b[1;32m--> 506\u001b[1;33m         \u001b[0mcursor\u001b[0m\u001b[1;33m.\u001b[0m\u001b[0mexecutemany\u001b[0m\u001b[1;33m(\u001b[0m\u001b[0mstatement\u001b[0m\u001b[1;33m,\u001b[0m \u001b[0mparameters\u001b[0m\u001b[1;33m)\u001b[0m\u001b[1;33m\u001b[0m\u001b[1;33m\u001b[0m\u001b[0m\n\u001b[0m\u001b[0;32m    507\u001b[0m \u001b[1;33m\u001b[0m\u001b[0m\n\u001b[0;32m    508\u001b[0m     \u001b[1;32mdef\u001b[0m \u001b[0mdo_execute\u001b[0m\u001b[1;33m(\u001b[0m\u001b[0mself\u001b[0m\u001b[1;33m,\u001b[0m \u001b[0mcursor\u001b[0m\u001b[1;33m,\u001b[0m \u001b[0mstatement\u001b[0m\u001b[1;33m,\u001b[0m \u001b[0mparameters\u001b[0m\u001b[1;33m,\u001b[0m \u001b[0mcontext\u001b[0m\u001b[1;33m=\u001b[0m\u001b[1;32mNone\u001b[0m\u001b[1;33m)\u001b[0m\u001b[1;33m:\u001b[0m\u001b[1;33m\u001b[0m\u001b[1;33m\u001b[0m\u001b[0m\n",
      "\u001b[1;31mIntegrityError\u001b[0m: (sqlite3.IntegrityError) UNIQUE constraint failed: losangeles.row_id [SQL: 'INSERT INTO losangeles (row_id, serial_number, activity_date, facility_name, violation_code, violation_description, violation_status, points, grade, facility_address, facility_city, facility_id, facility_state, facility_zip, employee_id, owner_id, owner_name, pe_description, program_element_pe, program_name, program_status, record_id, score, service_code, service_description) VALUES (?, ?, ?, ?, ?, ?, ?, ?, ?, ?, ?, ?, ?, ?, ?, ?, ?, ?, ?, ?, ?, ?, ?, ?, ?)'] [parameters: (('DA01KEPWCF045', 'DA01KEPWC', '2018-07-18T00:00:00.000', 'LA FARFALA COFFE SHOP', 'F045', '# 45. Sleeping quarters', 'OUT OF COMPLIANCE', 1, 'A', '346 N FORD BLVD', 'LOS ANGELES', 'FA0179718', 'CA', '90022-1121', 'EE0001049', 'OW0185212', 'DANERY S. VELASQUEZ', 'RESTAURANT (0-30) SEATS MODERATE RISK', 1631, 'LA FARFALA COFFE SHOP', 'ACTIVE', 'PR0173373', 93, 1, 'ROUTINE INSPECTION'), ('DA006DSLSF006', 'DA006DSLS', '2018-07-26T00:00:00.000', 'GARCONS DE CAFE', 'F006', '# 06. Adequate handwashing facilities supplied & accessible', 'OUT OF COMPLIANCE', 2, 'A', '541 S SPRING ST # 114', 'LOS ANGELES', 'FA0251976', 'CA', '90013', 'EE0000721', 'OW0245826', 'KC INVESTMENT LLC', 'RESTAURANT (0-30) SEATS MODERATE RISK', 1631, 'GARCONS DE CAFE', 'ACTIVE', 'PR0201189', 95, 1, 'ROUTINE INSPECTION'), ('DA006DSLSF040', 'DA006DSLS', '2018-07-26T00:00:00.000', 'GARCONS DE CAFE', 'F040', '# 40. Plumbing: Plumbing in good repair, proper backflow devices', 'OUT OF COMPLIANCE', 1, 'A', '541 S SPRING ST # 114', 'LOS ANGELES', 'FA0251976', 'CA', '90013', 'EE0000721', 'OW0245826', 'KC INVESTMENT LLC', 'RESTAURANT (0-30) SEATS MODERATE RISK', 1631, 'GARCONS DE CAFE', 'ACTIVE', 'PR0201189', 95, 1, 'ROUTINE INSPECTION'), ('DA006DSLSF052', 'DA006DSLS', '2018-07-26T00:00:00.000', 'GARCONS DE CAFE', 'F052', '# 01b. Food safety certification', 'OUT OF COMPLIANCE', 2, 'A', '541 S SPRING ST # 114', 'LOS ANGELES', 'FA0251976', 'CA', '90013', 'EE0000721', 'OW0245826', 'KC INVESTMENT LLC', 'RESTAURANT (0-30) SEATS MODERATE RISK', 1631, 'GARCONS DE CAFE', 'ACTIVE', 'PR0201189', 95, 1, 'ROUTINE INSPECTION'), ('DA00GQVTQF008', 'DA00GQVTQ', '2018-07-19T00:00:00.000', 'ACE SUSHI @ VONS', 'F008', '# 08. Time as a public health control; procedures & records', 'OUT OF COMPLIANCE', 2, 'A', '4030 S CENTINELA AVE', 'LOS ANGELES', 'FA0240579', 'CA', '90066', 'EE0000953', 'OW0208935', 'ASIANA MANAGEMENT GR', 'RESTAURANT (0-30) SEATS HIGH RISK', 1632, 'ACE SUSHI @ VONS', 'ACTIVE', 'PR0188606', 96, 1, 'ROUTINE INSPECTION'), ('DA00GQVTQF014', 'DA00GQVTQ', '2018-07-19T00:00:00.000', 'ACE SUSHI @ VONS', 'F014', '# 14. Food contact surfaces: clean and sanitized', 'OUT OF COMPLIANCE', 2, 'A', '4030 S CENTINELA AVE', 'LOS ANGELES', 'FA0240579', 'CA', '90066', 'EE0000953', 'OW0208935', 'ASIANA MANAGEMENT GR', 'RESTAURANT (0-30) SEATS HIGH RISK', 1632, 'ACE SUSHI @ VONS', 'ACTIVE', 'PR0188606', 96, 1, 'ROUTINE INSPECTION'), ('DA00RZ5GNF008', 'DA00RZ5GN', '2018-07-24T00:00:00.000', 'PAPA JOHNS PIZZA', 'F008', '# 08. Time as a public health control; procedures & records', 'OUT OF COMPLIANCE', 2, 'A', '13350 WASHINGTON BLVD', 'LOS ANGELES', 'FA0165233', 'CA', '90066', 'EE0000953', 'OW0128419', 'PJCA-1, LP', 'RESTAURANT (0-30) SEATS MODERATE RISK', 1631, 'PAPA JOHNS PIZZA', 'ACTIVE', 'PR0153550', 96, 1, 'ROUTINE INSPECTION'), ('DA00RZ5GNF033', 'DA00RZ5GN', '2018-07-24T00:00:00.000', 'PAPA JOHNS PIZZA', 'F033', '# 33. Nonfood-contact surfaces clean and in good repair', 'OUT OF COMPLIANCE', 1, 'A', '13350 WASHINGTON BLVD', 'LOS ANGELES', 'FA0165233', 'CA', '90066', 'EE0000953', 'OW0128419', 'PJCA-1, LP', 'RESTAURANT (0-30) SEATS MODERATE RISK', 1631, 'PAPA JOHNS PIZZA', 'ACTIVE', 'PR0153550', 96, 1, 'ROUTINE INSPECTION')  ... displaying 10 of 9201 total bound parameter sets ...  ('DAZYVBSLPF043', 'DAZYVBSLP', '2018-07-10T00:00:00.000', 'BAK KUNG KOREAN BBQ 2', 'F043', '# 43. Premises; personal/cleaning items; vermin-proofing', 'OUT OF COMPLIANCE', 1, 'A', '233 S VERMONT AVE', 'LOS ANGELES', 'FA0166078', 'CA', '90004', 'EE0001003', 'OW0039131', 'WON HUA, INC.', 'RESTAURANT (61-150) SEATS HIGH RISK', 1638, 'BAK KUNG KOREAN BBQ 2', 'ACTIVE', 'PR0156328', 92, 1, 'ROUTINE INSPECTION'), ('DAZYVBSLPF044', 'DAZYVBSLP', '2018-07-10T00:00:00.000', 'BAK KUNG KOREAN BBQ 2', 'F044', '# 44. Floors, walls and ceilings: properly built, maintained in good repair and clean', 'OUT OF COMPLIANCE', 1, 'A', '233 S VERMONT AVE', 'LOS ANGELES', 'FA0166078', 'CA', '90004', 'EE0001003', 'OW0039131', 'WON HUA, INC.', 'RESTAURANT (61-150) SEATS HIGH RISK', 1638, 'BAK KUNG KOREAN BBQ 2', 'ACTIVE', 'PR0156328', 92, 1, 'ROUTINE INSPECTION'))] (Background on this error at: http://sqlalche.me/e/gkpj)"
     ]
    }
   ],
   "source": [
    "# save filtered CSV data as CSV file and Export DataFrame to SQLLITE\n",
    "pdDate.to_csv(r'./data/restaurant-and-market-health-violations-0718.csv')\n",
    "engine = create_engine('sqlite:///data/los_angeles.db', echo=False)\n",
    "pdDate.to_sql('losangeles', con=engine, if_exists='append')"
   ]
  },
  {
   "cell_type": "code",
   "execution_count": null,
   "metadata": {
    "scrolled": true
   },
   "outputs": [],
   "source": [
    "# generate DataFrame to contain location data\n",
    "dfLoc = pdDate[['facility_id','facility_address','facility_city','facility_state','facility_zip']].drop_duplicates()\n",
    "dfLoc\n",
    "dfLoc.set_index('facility_id')\n",
    "\n",
    "dfLoc.head()"
   ]
  },
  {
   "cell_type": "code",
   "execution_count": null,
   "metadata": {
    "scrolled": true
   },
   "outputs": [],
   "source": [
    "# geocode location data\n",
    "LIMIT = 1800\n",
    "count = 0\n",
    "for index, row in  islice(dfLoc.iterrows(), LIMIT):\n",
    "    addr = row['facility_address'].replace(\"1/2\",\"\").split(\"#\")\n",
    "    location = addr[0].replace(\"1/4\",\"\")+ \", \"+row['facility_city']+ \", \"+row['facility_state']+ \" \"+row['facility_zip']\n",
    "    print(location)\n",
    "    g = geocoder.mapbox(location,key= \"pk.eyJ1Ijoiam9yZ2VwaXJlcyIsImEiOiJjanZvajBudGMwYmptNDRxbG95cWU0ZW0yIn0.x51Y6jI0l8i17yi1qdANpA\")\n",
    "    print(f'{g.lat} {g.lng}') \n",
    "    dfLoc.loc[index,'lat'] = g.lat\n",
    "    dfLoc.loc[index,'lng'] = g.lng\n",
    "    if(count == 599):\n",
    "        time.sleep(20)"
   ]
  },
  {
   "cell_type": "code",
   "execution_count": null,
   "metadata": {},
   "outputs": [],
   "source": [
    "dfLoc.count()"
   ]
  },
  {
   "cell_type": "code",
   "execution_count": null,
   "metadata": {},
   "outputs": [],
   "source": [
    "# post geocode to locations table\n",
    "dfLoc.to_sql('locations', con=engine, if_exists='append')"
   ]
  },
  {
   "cell_type": "code",
   "execution_count": null,
   "metadata": {},
   "outputs": [],
   "source": [
    "# create scoring dataframe\n",
    "dfScoring = pdDate[['facility_id','score','grade']]\n",
    "dfScoring.head()\n",
    "dfScoring.to_sql('scoring', con=engine, if_exists='append')"
   ]
  }
 ],
 "metadata": {
  "kernelspec": {
   "display_name": "Python 3",
   "language": "python",
   "name": "python3"
  },
  "language_info": {
   "codemirror_mode": {
    "name": "ipython",
    "version": 3
   },
   "file_extension": ".py",
   "mimetype": "text/x-python",
   "name": "python",
   "nbconvert_exporter": "python",
   "pygments_lexer": "ipython3",
   "version": "3.7.1"
  }
 },
 "nbformat": 4,
 "nbformat_minor": 2
}
